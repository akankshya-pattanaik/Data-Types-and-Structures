{
  "nbformat": 4,
  "nbformat_minor": 0,
  "metadata": {
    "colab": {
      "provenance": []
    },
    "kernelspec": {
      "name": "python3",
      "display_name": "Python 3"
    },
    "language_info": {
      "name": "python"
    }
  },
  "cells": [
    {
      "cell_type": "markdown",
      "source": [
        "Q1. What are data structures, and why are they important?\n",
        "\n",
        "Ans: A data structure is a systematic way of organizing, storing, and managing data so that it can be accessed and modified efficiently. It defines the relationship between data elements and the operations that can be performed on them, such as insertion, deletion, searching, and sorting.\n",
        "- e.g., arrays, linked lists, stacks, queues\n",
        "\n",
        "Importance of Data Structures:\n",
        "\n",
        "- Efficient Data Management: They help store and retrieve data quickly, improving performance.\n",
        "- Optimized Resource Usage: Proper data structures reduce memory usage and processing time.\n",
        "- Problem Solving: Many complex algorithms rely on specific data structures to work effectively.\n",
        "- Scalability: They support handling large amounts of data as applications grow.\n",
        "\n",
        "In essence, choosing the right data structure is critical for developing reliable, efficient, and maintainable software."
      ],
      "metadata": {
        "id": "s98o8Dc9wN9m"
      }
    },
    {
      "cell_type": "markdown",
      "source": [
        "Q2.  Explain the difference between mutable and immutable data types with examples?\n",
        "\n",
        "Ans:\n",
        "Python particularly in Python, data types can be classified into mutable and immutable based on whether their values can be changed after creation.\n",
        "\n",
        "#Mutable Data Types\n",
        "Definition: Objects whose values can be changed after they are created.\n",
        "\n",
        "Behavior: Modifying a mutable object does not create a new object; it changes the existing one.\n",
        "\n",
        "Examples in Python: list, dict, set, bytearray.\n",
        "\n",
        "Example:\n",
        "\n",
        "my_list = [1, 2, 3]\n",
        "\n",
        "print(id(my_list))  # memory address before change\n",
        "\n",
        "my_list[0] = 99     # modifying element\n",
        "\n",
        "print(my_list)      # [99, 2, 3]\n",
        "\n",
        "print(id(my_list))  # memory address remains same\n",
        "\n",
        "Here, the same object is modified without creating a new one.\n",
        "\n",
        "#Immutable Data Types\n",
        "Definition: Objects whose values cannot be changed after creation.\n",
        "\n",
        "Behavior: Any modification creates a new object in memory.\n",
        "\n",
        "Examples in Python: int, float, str, tuple, frozenset.\n",
        "\n",
        "Example:\n",
        "\n",
        "my_str = \"Hello\"\n",
        "\n",
        "print(id(my_str))  # memory address before change\n",
        "\n",
        "my_str = my_str + \" World\"  # creates new string\n",
        "\n",
        "print(my_str)      # \"Hello World\"\n",
        "\n",
        "print(id(my_str))  # memory address changes"
      ],
      "metadata": {
        "id": "cfZm4asgx1pC"
      }
    },
    {
      "cell_type": "markdown",
      "source": [
        "Q3. What are the main differences between lists and tuples in Python?\n",
        "\n",
        "Ans:\n",
        "#List:\n",
        "- List is mutable – can be changed after creation.\n",
        "- Syntax is uses square brackets [].\n",
        "- Performance\tslower due to mutability.\n",
        "- Methods\tare built-in methods (append(), remove(), sort(), etc.).\n",
        "- Use when data may need modification.\n",
        "\n",
        "\n",
        "#Tuples:\n",
        "- Tuples is Immutable – cannot be changed after creation.\n",
        "- Syntax uses parentheses ().\n",
        "- Performance faster due to immutability.\n",
        "- Methods\tare built-in (count(), index() only).\n",
        "- Use when data must stay constant."
      ],
      "metadata": {
        "id": "d8s-46LTyghc"
      }
    },
    {
      "cell_type": "markdown",
      "source": [
        "Q4.  Describe how dictionaries store data?\n",
        "\n",
        "Ans:\n",
        "In Python, a dictionary stores data as key–value pairs in an unordered, but indexed collection. Internally, dictionaries use a hash table to store and retrieve data efficiently.\n",
        "\n",
        "1. Keys are hashed:\n",
        "\n",
        "- When you create a dictionary, Python takes each key and runs it through a hash function to produce a unique hash value (an integer).\n",
        "\n",
        "- This hash value decides where the key–value pair will be stored in the hash table (like an index).\n",
        "\n",
        "2. Fast lookups:\n",
        "\n",
        "- When you access a value using its key, Python hashes the key again and jumps directly to the memory location in the hash table.\n",
        "\n",
        "- This makes dictionary lookups average O(1) time complexity.\n",
        "\n",
        "3. Key restrictions:\n",
        "\n",
        "- Keys must be immutable (e.g., strings, numbers, tuples of immutables) because if a key changes, its hash value would change, breaking the storage system.\n",
        "\n",
        "4. Collision handling:\n",
        "\n",
        "- If two keys produce the same hash value (collision), Python uses open addressing or probing to find another empty slot in the table.\n",
        "\n"
      ],
      "metadata": {
        "id": "DbvcyO0C0VCH"
      }
    },
    {
      "cell_type": "markdown",
      "source": [
        "Q5. Why might you use a set instead of a list in Python?\n",
        "\n",
        "Ans:\n",
        "1. No Duplicates Allowed\n",
        "- Sets automatically remove duplicate elements.\n",
        "\n",
        "nums = [1, 2, 2, 3]\n",
        "\n",
        "unique_nums = set(nums)\n",
        "\n",
        "print(unique_nums)  # {1, 2, 3}\n",
        "\n",
        "2. Faster Lookups\n",
        "\n",
        "- Checking if an item exists in a set is O(1) on average, compared to O(n) for lists, because sets use hash tables internally.\n",
        "\n",
        "s = {1, 2, 3}\n",
        "\n",
        "print(2 in s)  # Fast check\n",
        "\n",
        "3. Efficient Mathematical Operations\n",
        "\n",
        "- Sets support union, intersection, difference, symmetric difference directly.\n",
        "\n",
        "a = {1, 2, 3}\n",
        "\n",
        "b = {3, 4, 5}\n",
        "\n",
        "print(a & b)  # {3} (intersection)\n",
        "\n",
        "4. Order Doesn’t Matter\n",
        "\n",
        "- If you don’t care about element order, sets are more efficient than lists for unique collections."
      ],
      "metadata": {
        "id": "0WBLswxn0-jh"
      }
    },
    {
      "cell_type": "markdown",
      "source": [
        "Q6. What is a string in Python, and how is it different from a list?\n",
        "\n",
        "Ans:\n",
        "#String\n",
        "A string is an immutable sequence of characters used to store and represent text.\n",
        "\n",
        "Example:\n",
        "\n",
        "name = \"Python\"\n",
        "\n",
        "Since strings are immutable, once created, you cannot change individual characters—you can only create a new string.\n",
        "\n",
        "s = \"hello\"\n",
        "\n",
        "s[0] = \"H\"   # This will give an error\n",
        "#List\n",
        "A list is a mutable sequence that can store any type of elements (integers, strings, objects, etc.).\n",
        "\n",
        "Example:\n",
        "\n",
        "my_list = [1, \"apple\", 3.14]\n",
        "\n",
        "Lists are mutable, so you can change, add, or remove elements.\n",
        "\n",
        "my_list[1] = \"banana\"  # Works fine"
      ],
      "metadata": {
        "id": "jf21-FIp4CIt"
      }
    },
    {
      "cell_type": "markdown",
      "source": [
        "Q7.  How do tuples ensure data integrity in Python?\n",
        "\n",
        "Ans:\n",
        "Tuples in Python ensure data integrity primarily through their immutability.\n",
        "\n",
        "Once a tuple is created, its elements cannot be changed, added, or removed. This means the stored data remains fixed throughout the program’s execution, preventing accidental modification. For\n",
        "\n",
        "example:\n",
        "\n",
        "coordinates = (10, 20)\n",
        "\n",
        "coordinates[0] = 15  #Error\n",
        "\n",
        "Because of this immutability:\n",
        "- Accidental changes are avoided, ensuring the original data stays intact.\n",
        "- Tuples can be safely used as keys in dictionaries or elements in sets, something mutable types like lists cannot do.\n",
        "- They are ideal for storing constant, read-only data, such as configuration values, fixed coordinates, or predefined options.\n",
        "\n",
        "Immutability makes tuples a reliable choice when you want data to remain unchanged, thus preserving its integrity throughout a program."
      ],
      "metadata": {
        "id": "w8ijKuwc47gq"
      }
    },
    {
      "cell_type": "markdown",
      "source": [
        "Q8. What is a hash table, and how does it relate to dictionaries in Python?\n",
        "\n",
        "Ans: A hash table is a data structure that stores key–value pairs and allows fast data retrieval based on a key.\n",
        "\n",
        "It works by applying a hash function to the key, which converts it into a numerical value (hash code). This hash code is then used to determine where the value is stored in memory (the “bucket” or “slot”).\n",
        "\n",
        "#Relation to Python Dictionaries\n",
        "In Python, a dictionary (dict) is an implementation of a hash table:\n",
        "- Keys are hashed using Python’s built-in hash function (hash()), and the hash determines where the key–value pair is stored internally.\n",
        "- Lookup, insertion, and deletion operations are generally O(1) on average because the hash table can directly compute the storage location.\n",
        "- Dictionary keys must be hashable (immutable types like strings, numbers, or tuples containing immutable elements) to ensure their hash value does not change.\n",
        "\n",
        "Example:\n",
        "\n",
        "student = {\"name\": \"Akankshya\", \"age\": 22}\n",
        "\n",
        "print(student[\"name\"])  # Fast retrieval via hashing\n",
        "\n",
        "- A dictionary in Python is a high-level, built-in implementation of a hash table, giving you all its efficiency benefits without manually handling hashing and collision resolution."
      ],
      "metadata": {
        "id": "L8vLiWV85g0Z"
      }
    },
    {
      "cell_type": "markdown",
      "source": [
        "Q9. Can lists contain different data types in Python?\n",
        "\n",
        "Ans: Yes. In Python, lists can contain elements of different data types within the same list because Python lists are heterogeneous collections.\n",
        "\n",
        "For example:\n",
        "\n",
        "mixed_list = [25, \"hello\", 3.14, True, [1, 2, 3]]\n",
        "\n",
        "print(mixed_list)\n",
        "\n",
        "This flexibility is possible because Python is dynamically typed—the type of each element is determined at runtime, and the list only stores references to the objects, not fixed data types like in some other languages (e.g., Java arrays).\n",
        "\n",
        "However, while mixing data types is allowed, it can sometimes make processing the list more complex and less predictable, so it’s generally best used only when necessary."
      ],
      "metadata": {
        "id": "ifOhzG8S6T2N"
      }
    },
    {
      "cell_type": "markdown",
      "source": [
        "Q10.  Explain why strings are immutable in Python.\n",
        "\n",
        "Ans: Strings are immutable in Python because once a string object is created, its contents cannot be changed.\n",
        "\n",
        "This immutability exists for several important reasons:\n",
        "\n",
        "1. Memory efficiency – Python uses an internal technique called string interning, where identical strings can share the same memory location. If strings were mutable, changing one would unintentionally change all references to it.\n",
        "2. Hashability and dictionary usage – Immutable strings can be hashable, allowing them to be used as keys in dictionaries or elements in sets. If they were mutable, their hash value could change, breaking dictionary and set operations.\n",
        "3. Thread safety – Since immutable strings cannot be altered, they can be safely shared between threads without synchronization issues.\n",
        "4. Predictability and reliability – When you pass a string to a function, you know the function can’t modify the original string, preserving data integrity.\n",
        "\n",
        "Strings are immutable to make them safe, efficient, and predictable for use in Python programs."
      ],
      "metadata": {
        "id": "m2MEazVN60r3"
      }
    },
    {
      "cell_type": "markdown",
      "source": [
        "Q11. What advantages do dictionaries offer over lists for certain tasks?\n",
        "\n",
        "Ans: Dictionaries offer several advantages over lists for certain tasks, mainly due to their key–value storage and hash table implementation:\n",
        "\n",
        "1. Fast lookups (O(1) average): With dictionaries, you can access a value directly using its key without searching through the entire collection, unlike lists which require linear search (O(n)).\n",
        "\n",
        "student = {\"name\": \"Akankshya\", \"age\": 22}\n",
        "\n",
        "print(student[\"age\"])  # Fast access\n",
        "2. Meaningful keys instead of numeric indexes: Data in a dictionary is accessed using descriptive keys rather than positional indices, making code more readable and self-explanatory.\n",
        "3. Flexible data mapping: Dictionaries are ideal for storing relationships, configurations, or records where each value is associated with a unique identifier.\n",
        "4. No need to remember element positions: In lists, you must remember the index to get a specific value; in dictionaries, you just use the key.\n",
        "5. Avoiding duplicates in keys: Dictionary keys are unique, which helps automatically prevent duplicate entries for the same identifier.\n",
        "More efficient for sparse data: When you have large datasets with only a few active entries, dictionaries save time because they don’t require filling unused positions like lists."
      ],
      "metadata": {
        "id": "rpi-Z3RL7P0s"
      }
    },
    {
      "cell_type": "markdown",
      "source": [
        " Q12. Describe a scenario where using a tuple would be preferable over a list.\n",
        "\n",
        " Ans: A tuple is preferable over a list when you need to store fixed, unchangeable data that should remain the same throughout the program’s execution.\n",
        "\n",
        "Scenario Example:\n",
        "Suppose you’re building a program to process GPS coordinates of a landmark, such as the Eiffel Tower.\n",
        "\n",
        "eiffel_tower_coordinates = (48.8584, 2.2945)  # Latitude, Longitude\n",
        "\n",
        "Here, using a tuple is better than a list because:\n",
        "- The coordinates are constant and should not be accidentally changed.\n",
        "- Tuples are immutable, so data integrity is preserved.\n",
        "- They can be used as dictionary keys if needed (lists cannot be dictionary keys because they are mutable).\n",
        "- Tuples are slightly faster and more memory-efficient than lists for fixed data.\n",
        "\n",
        "Tuples are ideal for read-only collections, such as configuration settings, database field names, days of the week, or any set of constant values."
      ],
      "metadata": {
        "id": "d9wPFRCd7XxG"
      }
    },
    {
      "cell_type": "markdown",
      "source": [
        "Q13.  How do sets handle duplicate values in Python?\n",
        "\n",
        "Ans:\n",
        "Sets automatically remove duplicate values because they are implemented as unordered collections of unique elements.\n",
        "\n",
        "When you add items to a set:\n",
        "- Python uses hashing to determine the position of each element.\n",
        "- If a new element’s hash matches an existing one and the values are equal, the duplicate is ignored.\n",
        "\n",
        "Example:\n",
        "\n",
        "my_set = {1, 2, 2, 3, 3, 3}\n",
        "\n",
        "print(my_set)  \n",
        "\n",
        "Key Points:\n",
        "- Sets cannot contain duplicates by design.\n",
        "- This makes them useful for tasks like removing duplicates from a list:\n",
        "\n",
        "numbers = [1, 2, 2, 3, 3]\n",
        "\n",
        "unique_numbers = set(numbers)\n",
        "\n",
        "print(unique_numbers)  # {1, 2, 3}\n"
      ],
      "metadata": {
        "id": "4M8GTSut8-_t"
      }
    },
    {
      "cell_type": "markdown",
      "source": [
        "Q14. How does the “in” keyword work differently for lists and dictionaries?\n",
        "\n",
        "Ans:\n",
        "The in keyword checks for membership, but it works differently for lists and dictionaries in Python:\n",
        "\n",
        "#In Lists\n",
        "Checks whether the value exists as an element in the list.\n",
        "\n",
        "Performs a linear search (O(n) time complexity).\n",
        "\n",
        "Example:\n",
        "\n",
        "fruits = [\"apple\", \"banana\", \"cherry\"]\n",
        "\n",
        "print(\"banana\" in fruits)  # True\n",
        "\n",
        "print(\"grape\" in fruits)   # False\n",
        "#In Dictionaries\n",
        "- Checks whether the key exists in the dictionary, not the value.\n",
        "- Uses hashing, so membership check is O(1) on average.\n",
        "\n",
        "Example:\n",
        "\n",
        "student = {\"name\": \"Akankshya\", \"age\": 22}\n",
        "\n",
        "print(\"name\" in student)     # True\n",
        "\n",
        "print(\"Akankshya\" in student)  # False\n",
        "\n",
        "If you want to check values in a dictionary, you must explicitly search in .values():\n",
        "\n",
        "print(\"Akankshya\" in student.values())  # True\n"
      ],
      "metadata": {
        "id": "tGeTxrH5-K0-"
      }
    },
    {
      "cell_type": "markdown",
      "source": [
        "Q15.  Can you modify the elements of a tuple? Explain why or why not?\n",
        "\n",
        "Ans:\n",
        "No, you cannot modify the elements of a tuple in Python because tuples are immutable.\n",
        "\n",
        "Once a tuple is created, its elements are fixed in place—you cannot change, add, or remove items.\n",
        "\n",
        "Example:\n",
        "\n",
        "t = (1, 2, 3)\n",
        "t[0] = 10  #'tuple' object does not support item assignment\n",
        "\n",
        "#Why tuples are immutable\n",
        "1. Data integrity – Tuples are often used to store constant, unchanging data (e.g., coordinates, configuration values). Immutability ensures the data cannot be altered accidentally.\n",
        "2. Hashability – Immutable objects can be hashed and used as keys in dictionaries or elements in sets, which mutable objects like lists cannot do.\n",
        "3. Performance – Tuples can be optimized internally for faster access and lower memory usage compared to mutable sequences."
      ],
      "metadata": {
        "id": "nqp9WTrO_QZ1"
      }
    },
    {
      "cell_type": "markdown",
      "source": [
        "Q16. What is a nested dictionary, and give an example of its use case?\n",
        "\n",
        "Ans:\n",
        "A nested dictionary in Python is a dictionary where one or more values are themselves dictionaries.\n",
        "\n",
        "This creates a hierarchy of key–value pairs, useful for storing structured, multi-level data.\n",
        "\n",
        "Example of a Nested Dictionary\n",
        "\n",
        "students = {\n",
        "    \"S001\": {\"name\": \"Akankshya\", \"age\": 22, \"course\": \"BCA\"},\n",
        "    \"S002\": {\"name\": \"Rahul\", \"age\": 23, \"course\": \"MCA\"},\n",
        "}\n",
        "print(students[\"S001\"][\"name\"])  \n",
        "\n",
        "Output: Akankshya\n",
        "\n",
        "Use Case:\n",
        "- Storing structured data such as JSON-like objects.\n",
        "- Useful in databases, APIs, and configuration files.\n",
        "- Example: In a school management system, each student’s ID can be a key, and the value can be another dictionary containing personal details, grades, and attendance records."
      ],
      "metadata": {
        "id": "ySlp1v6y_21j"
      }
    },
    {
      "cell_type": "markdown",
      "source": [
        "Q17. Describe the time complexity of accessing elements in a dictionary.\n",
        "\n",
        "Ans:\n",
        "Accessing elements in a Python dictionary is generally O(1) time complexity on average because dictionaries are implemented using a hash table.\n",
        "\n",
        "#How it works\n",
        "1. When you access a value using its key (e.g., my_dict[key]), Python:\n",
        "- Computes the hash of the key using hash(key).\n",
        "- Uses the hash to find the bucket where the key–value pair is stored.\n",
        "- Retrieves the value directly without scanning the entire dictionary.\n",
        "2. Since hashing and lookup are constant-time operations on average, the access is O(1).\n",
        "#Worst-case scenario\n",
        "- In rare cases, hash collisions (different keys producing the same hash) can occur.\n",
        "- When collisions happen, multiple keys may be stored in the same bucket, requiring a linear search within that bucket.\n",
        "\n",
        "Access time can degrade to O(n), but Python’s hash function and collision handling make this extremely unlikely in practice."
      ],
      "metadata": {
        "id": "QLEeTHebAZ85"
      }
    },
    {
      "cell_type": "markdown",
      "source": [
        "Q18. In what situations are lists preferred over dictionaries?\n",
        "\n",
        "Ans:\n",
        "1. Order matters: Lists maintain the order of elements (insertion order), which is important when sequence is meaningful.\n",
        "\n",
        "Example: maintaining a ranked leaderboard.\n",
        "\n",
        "2. Index-based access is needed:\n",
        "If you frequently need to retrieve items by their position rather than by a descriptive key.\n",
        "\n",
        "colors = [\"red\", \"green\", \"blue\"]\n",
        "\n",
        "print(colors[1])  # green\n",
        "\n",
        "3. Data does not need explicit labels: When your dataset is just a collection of items without needing named identifiers.\n",
        "\n",
        "4. Duplicates are allowed or required: Lists can store the same value multiple times, unlike dictionary keys which must be unique.\n",
        "\n",
        "5. Iteration over all elements: Lists are simpler for sequential processing (loops) when keys are not necessary.\n",
        "\n",
        "6. Small, simple datasets: Lists use slightly less memory than dictionaries, making them more efficient for small collections of unstructured data.\n",
        "\n",
        "Example use cases for lists\n",
        "- Shopping cart items in order of addition\n",
        "- Storing sensor readings over time\n",
        "- Managing a playlist of songs in sequence\n",
        "- Keeping multiple occurrences of the same value"
      ],
      "metadata": {
        "id": "wo-F0fz2BRE4"
      }
    },
    {
      "cell_type": "markdown",
      "source": [
        "Q19. Why are dictionaries considered unordered, and how does that affect data retrieval?\n",
        "\n",
        "Ans:\n",
        "Dictionaries in Python are considered unordered because their internal storage is based on hash tables, where elements are placed according to the hash value of their keys rather than any fixed sequence.\n",
        "#Why unordered\n",
        "- A key’s hash determines its storage location in memory.\n",
        "- This location can vary between runs or when keys are added/removed.\n",
        "- In versions before Python 3.7, dictionaries did not preserve insertion order at all.\n",
        "- From Python 3.7 onward, insertion order is preserved as an implementation detail (and officially guaranteed in Python 3.8+), but the dictionary’s logical design is still considered unordered because retrieval does not depend on index positions like in a list.\n",
        "#Effect on data retrieval\n",
        "1. Access by key, not position\n",
        "- You can’t reliably say “give me the first element” without converting keys to a list or iterating.\n",
        "- Retrieval is always done by key lookup, not by order.\n",
        "2. No guarantee of sorted order\n",
        "- If you need sorted output, you must explicitly sort the keys or items:\n",
        "\n",
        "for key in sorted(my_dict):\n",
        "\n",
        "    print(key, my_dict[key])\n",
        "3. Performance focus\n",
        "- The unordered design enables O(1) average time complexity for lookups, insertions, and deletions."
      ],
      "metadata": {
        "id": "H_b5g7OtCQJj"
      }
    },
    {
      "cell_type": "markdown",
      "source": [
        "Q20.  Explain the difference between a list and a dictionary in terms of data retrieval.\n",
        "\n",
        "Ans:\n",
        "The main difference between a list and a dictionary in terms of data retrieval is how you access elements and how fast that access is.\n",
        "\n",
        "1. List – Index-based retrieval:\n",
        "- You access elements by their position (index) in the sequence.\n",
        "- Indexes are integers starting from 0.\n",
        "- Retrieval requires knowing the element’s position, not its meaning.\n",
        "- Time complexity: O(1) for direct index access, but O(n) if searching for a value.\n",
        "\n",
        "Example:\n",
        "\n",
        "fruits = [\"apple\", \"banana\", \"cherry\"]\n",
        "\n",
        "print(fruits[1])  # banana → accessed by index\n",
        "\n",
        "2. Dictionary – Key-based retrieval\n",
        "- You access elements by their unique key, not by position.\n",
        "- Keys can be strings, numbers, or other hashable types.\n",
        "- Retrieval is direct without searching through all items.\n",
        "- Time complexity: O(1) on average (hash table lookup).\n",
        "\n",
        "Example:\n",
        "\n",
        "fruit_colors = {\"apple\": \"red\", \"banana\": \"yellow\", \"cherry\": \"red\"}\n",
        "\n",
        "print(fruit_colors[\"banana\"])  # yellow → accessed by key"
      ],
      "metadata": {
        "id": "uWrWREgWDFXl"
      }
    },
    {
      "cell_type": "code",
      "source": [
        "#1.  Write a code to create a string with your name and print it.\n",
        "name = \"Akankshya\"\n",
        "print(name)"
      ],
      "metadata": {
        "colab": {
          "base_uri": "https://localhost:8080/"
        },
        "id": "g8MXxvSlDx-x",
        "outputId": "95c7344a-6f33-4980-8595-770e682215b4"
      },
      "execution_count": 1,
      "outputs": [
        {
          "output_type": "stream",
          "name": "stdout",
          "text": [
            "Akankshya\n"
          ]
        }
      ]
    },
    {
      "cell_type": "code",
      "source": [
        "#2. Write a code to find the length of the string \"Hello World\".\n",
        "string1 = \"Hello World\"\n",
        "print(len(string1))"
      ],
      "metadata": {
        "colab": {
          "base_uri": "https://localhost:8080/"
        },
        "id": "z6mf89aMETwG",
        "outputId": "3e2eaf7a-0264-4284-c79b-d8790d564bed"
      },
      "execution_count": 2,
      "outputs": [
        {
          "output_type": "stream",
          "name": "stdout",
          "text": [
            "11\n"
          ]
        }
      ]
    },
    {
      "cell_type": "code",
      "source": [
        "#3. Write a code to slice the first 3 characters from the string \"Python Programming\".\n",
        "string2 = \"Python Programming\"\n",
        "print(string2[:3])"
      ],
      "metadata": {
        "colab": {
          "base_uri": "https://localhost:8080/"
        },
        "id": "EaYn5HFHET6G",
        "outputId": "38acd0b2-0a7b-489f-8567-82ad5f3ffbe0"
      },
      "execution_count": 3,
      "outputs": [
        {
          "output_type": "stream",
          "name": "stdout",
          "text": [
            "Pyt\n"
          ]
        }
      ]
    },
    {
      "cell_type": "code",
      "source": [
        "#4. Write a code to convert the string \"hello\" to uppercase.\n",
        "string3 = \"hello\"\n",
        "print(string3.upper())"
      ],
      "metadata": {
        "colab": {
          "base_uri": "https://localhost:8080/"
        },
        "id": "_QVX14j1EUCt",
        "outputId": "2d60d315-c9cb-486e-bb70-bb95f0947682"
      },
      "execution_count": 4,
      "outputs": [
        {
          "output_type": "stream",
          "name": "stdout",
          "text": [
            "HELLO\n"
          ]
        }
      ]
    },
    {
      "cell_type": "code",
      "source": [
        "#5. Write a code to replace the word \"apple\" with \"orange\" in the string \"I like apple\".\n",
        "string4 = \"I like apple\"\n",
        "print(string4.replace(\"apple\", \"orange\"))"
      ],
      "metadata": {
        "colab": {
          "base_uri": "https://localhost:8080/"
        },
        "id": "DcL9JV-kEUIo",
        "outputId": "68f51cc1-6d09-42ab-ca72-d933d70472f6"
      },
      "execution_count": 5,
      "outputs": [
        {
          "output_type": "stream",
          "name": "stdout",
          "text": [
            "I like orange\n"
          ]
        }
      ]
    },
    {
      "cell_type": "code",
      "source": [
        "#6. Write a code to create a list with numbers 1 to 5 and print it.\n",
        "numbers_list = [1, 2, 3, 4, 5]\n",
        "print(numbers_list)"
      ],
      "metadata": {
        "colab": {
          "base_uri": "https://localhost:8080/"
        },
        "id": "qjaSbeOoEUPj",
        "outputId": "bf0cbe8f-fed1-412d-b55f-902b901edbca"
      },
      "execution_count": 6,
      "outputs": [
        {
          "output_type": "stream",
          "name": "stdout",
          "text": [
            "[1, 2, 3, 4, 5]\n"
          ]
        }
      ]
    },
    {
      "cell_type": "code",
      "source": [
        "#7. Write a code to append the number 10 to the list [1, 2, 3, 4].\n",
        "list1 = [1, 2, 3, 4]\n",
        "list1.append(10)\n",
        "print(list1)"
      ],
      "metadata": {
        "colab": {
          "base_uri": "https://localhost:8080/"
        },
        "id": "AXPhoX9KEUTa",
        "outputId": "cd9b0508-7494-476a-cda2-ce0a9b0737d6"
      },
      "execution_count": 7,
      "outputs": [
        {
          "output_type": "stream",
          "name": "stdout",
          "text": [
            "[1, 2, 3, 4, 10]\n"
          ]
        }
      ]
    },
    {
      "cell_type": "code",
      "source": [
        "#8. Write a code to remove the number 3 from the list [1, 2, 3, 4, 5].\n",
        "list2 = [1, 2, 3, 4, 5]\n",
        "list2.remove(3)\n",
        "print(list2)"
      ],
      "metadata": {
        "colab": {
          "base_uri": "https://localhost:8080/"
        },
        "id": "MAaWUMFaEUYI",
        "outputId": "d3546666-a7aa-4f8c-ddc7-5ffbdd4f33f3"
      },
      "execution_count": 8,
      "outputs": [
        {
          "output_type": "stream",
          "name": "stdout",
          "text": [
            "[1, 2, 4, 5]\n"
          ]
        }
      ]
    },
    {
      "cell_type": "code",
      "source": [
        "#9. Write a code to access the second element in the list ['a', 'b', 'c', 'd'].\n",
        "list3 = ['a', 'b', 'c', 'd']\n",
        "print(list3[1])"
      ],
      "metadata": {
        "colab": {
          "base_uri": "https://localhost:8080/"
        },
        "id": "aNGBmluKEUbu",
        "outputId": "33b8fb35-6aef-4ce7-d8ef-03013bb6bea5"
      },
      "execution_count": 9,
      "outputs": [
        {
          "output_type": "stream",
          "name": "stdout",
          "text": [
            "b\n"
          ]
        }
      ]
    },
    {
      "cell_type": "code",
      "source": [
        "#10. Write a code to reverse the list [10, 20, 30, 40, 50].\n",
        "list4 = [10, 20, 30, 40, 50]\n",
        "list4.reverse()\n",
        "print(list4)"
      ],
      "metadata": {
        "colab": {
          "base_uri": "https://localhost:8080/"
        },
        "id": "YeAuVwaDEUsA",
        "outputId": "3bd5ad89-71b6-4ab1-dadf-ec290d30fde4"
      },
      "execution_count": 10,
      "outputs": [
        {
          "output_type": "stream",
          "name": "stdout",
          "text": [
            "[50, 40, 30, 20, 10]\n"
          ]
        }
      ]
    },
    {
      "cell_type": "code",
      "source": [
        "#11. Write a code to create a tuple with the elements 100, 200, 300 and print it.\n",
        "tuple1 = (100, 200, 300)\n",
        "print(tuple1)"
      ],
      "metadata": {
        "colab": {
          "base_uri": "https://localhost:8080/"
        },
        "id": "Wzt-P4klFx0q",
        "outputId": "98db28dc-5fbd-4862-fbce-cd3d31022c0e"
      },
      "execution_count": 11,
      "outputs": [
        {
          "output_type": "stream",
          "name": "stdout",
          "text": [
            "(100, 200, 300)\n"
          ]
        }
      ]
    },
    {
      "cell_type": "code",
      "source": [
        "#12. Write a code to access the second-to-last element of the tuple ('red', 'green', 'blue', 'yellow').\n",
        "colors = ('red', 'green', 'blue', 'yellow')\n",
        "print(colors[-2])"
      ],
      "metadata": {
        "colab": {
          "base_uri": "https://localhost:8080/"
        },
        "id": "FMKBFT3RFx7g",
        "outputId": "0850cd0b-2c8c-4a90-d51a-60a20f73104e"
      },
      "execution_count": 12,
      "outputs": [
        {
          "output_type": "stream",
          "name": "stdout",
          "text": [
            "blue\n"
          ]
        }
      ]
    },
    {
      "cell_type": "code",
      "source": [
        "#13. Write a code to find the minimum number in the tuple (10, 20, 5, 15).\n",
        "numbers = (10, 20, 5, 15)\n",
        "print(min(numbers))"
      ],
      "metadata": {
        "colab": {
          "base_uri": "https://localhost:8080/"
        },
        "id": "3-B8SNVBFyBb",
        "outputId": "1d1729fb-f666-4500-d546-54957cc2436e"
      },
      "execution_count": 13,
      "outputs": [
        {
          "output_type": "stream",
          "name": "stdout",
          "text": [
            "5\n"
          ]
        }
      ]
    },
    {
      "cell_type": "code",
      "source": [
        "#14. Write a code to find the index of the element \"cat\" in the tuple ('dog', 'cat', 'rabbit').\n",
        "animals = ('dog', 'cat', 'rabbit')\n",
        "print(animals.index(\"cat\"))"
      ],
      "metadata": {
        "colab": {
          "base_uri": "https://localhost:8080/"
        },
        "id": "YeDDMr6dFyGx",
        "outputId": "739c1886-7b9d-4721-e5ca-ec3718bf29de"
      },
      "execution_count": 14,
      "outputs": [
        {
          "output_type": "stream",
          "name": "stdout",
          "text": [
            "1\n"
          ]
        }
      ]
    },
    {
      "cell_type": "code",
      "source": [
        "#15. Write a code to create a tuple containing three different fruits and check if \"kiwi\" is in it.\n",
        "fruits = (\"apple\", \"banana\", \"mango\")\n",
        "print(\"kiwi\" in fruits)"
      ],
      "metadata": {
        "colab": {
          "base_uri": "https://localhost:8080/"
        },
        "id": "S049Zi2MFyND",
        "outputId": "4c2136ec-b3da-4d34-84d5-8091aa52bbe9"
      },
      "execution_count": 15,
      "outputs": [
        {
          "output_type": "stream",
          "name": "stdout",
          "text": [
            "False\n"
          ]
        }
      ]
    },
    {
      "cell_type": "code",
      "source": [
        "#16.  Write a code to create a set with the elements 'a', 'b', 'c' and print it.\n",
        "set1 = {'a', 'b', 'c'}\n",
        "print(set1)"
      ],
      "metadata": {
        "colab": {
          "base_uri": "https://localhost:8080/"
        },
        "id": "-jxvJB4xFySG",
        "outputId": "de94ecba-bd74-4157-cfa3-787bd710d2d4"
      },
      "execution_count": 16,
      "outputs": [
        {
          "output_type": "stream",
          "name": "stdout",
          "text": [
            "{'a', 'b', 'c'}\n"
          ]
        }
      ]
    },
    {
      "cell_type": "code",
      "source": [
        "#17. Write a code to clear all elements from the set {1, 2, 3, 4, 5}.\n",
        "set2 = {1, 2, 3, 4, 5}\n",
        "set2.clear()\n",
        "print(set2)"
      ],
      "metadata": {
        "colab": {
          "base_uri": "https://localhost:8080/"
        },
        "id": "Kj-z19fVFyYt",
        "outputId": "64cc762e-1932-4782-dcae-f2f034775e73"
      },
      "execution_count": 17,
      "outputs": [
        {
          "output_type": "stream",
          "name": "stdout",
          "text": [
            "set()\n"
          ]
        }
      ]
    },
    {
      "cell_type": "code",
      "source": [
        "#18. Write a code to remove the element 4 from the set {1, 2, 3, 4}.\n",
        "set3 = {1, 2, 3, 4}\n",
        "set3.remove(4)\n",
        "print(set3)"
      ],
      "metadata": {
        "colab": {
          "base_uri": "https://localhost:8080/"
        },
        "id": "STERwUHuFyee",
        "outputId": "b082d353-c636-40e1-e285-71f73d632f62"
      },
      "execution_count": 18,
      "outputs": [
        {
          "output_type": "stream",
          "name": "stdout",
          "text": [
            "{1, 2, 3}\n"
          ]
        }
      ]
    },
    {
      "cell_type": "code",
      "source": [
        "#19. Write a code to find the union of two sets {1, 2, 3} and {3, 4, 5}.\n",
        "set4 = {1, 2, 3}\n",
        "set5 = {3, 4, 5}\n",
        "print(set4.union(set5))"
      ],
      "metadata": {
        "colab": {
          "base_uri": "https://localhost:8080/"
        },
        "id": "Dt4Ka-plFykU",
        "outputId": "1d573c09-75e2-4101-a8f9-4e89d1684a90"
      },
      "execution_count": 19,
      "outputs": [
        {
          "output_type": "stream",
          "name": "stdout",
          "text": [
            "{1, 2, 3, 4, 5}\n"
          ]
        }
      ]
    },
    {
      "cell_type": "code",
      "source": [
        "#20. Write a code to find the intersection of two sets {1, 2, 3} and {2, 3, 4}.\n",
        "set6 = {1, 2, 3}\n",
        "set7 = {2, 3, 4}\n",
        "print(set6.intersection(set7))"
      ],
      "metadata": {
        "colab": {
          "base_uri": "https://localhost:8080/"
        },
        "id": "PqTEwXEnGcwB",
        "outputId": "01da6ab6-9413-4ada-a185-27f8ca8d9067"
      },
      "execution_count": 20,
      "outputs": [
        {
          "output_type": "stream",
          "name": "stdout",
          "text": [
            "{2, 3}\n"
          ]
        }
      ]
    },
    {
      "cell_type": "code",
      "source": [
        "#21.Write a code to create a dictionary with the keys \"name\", \"age\", and \"city\", and print it.\n",
        "person = {\"name\": \"John\", \"age\": 25, \"city\": \"New York\"}\n",
        "print(person)"
      ],
      "metadata": {
        "colab": {
          "base_uri": "https://localhost:8080/"
        },
        "id": "jiiO_c7KHilz",
        "outputId": "3a33e272-330c-4b6b-ed3e-7e2e597cc279"
      },
      "execution_count": 21,
      "outputs": [
        {
          "output_type": "stream",
          "name": "stdout",
          "text": [
            "{'name': 'John', 'age': 25, 'city': 'New York'}\n"
          ]
        }
      ]
    },
    {
      "cell_type": "code",
      "source": [
        "#22. Write a code to add a new key-value pair \"country\": \"USA\" to the dictionary {'name': 'John', 'age': 25}.\n",
        "person = {'name': 'John', 'age': 25}\n",
        "person[\"country\"] = \"USA\"\n",
        "print(person)"
      ],
      "metadata": {
        "colab": {
          "base_uri": "https://localhost:8080/"
        },
        "id": "05FEvvZjHirW",
        "outputId": "cf3045de-0d56-4c6f-f16a-85fbd850611c"
      },
      "execution_count": 22,
      "outputs": [
        {
          "output_type": "stream",
          "name": "stdout",
          "text": [
            "{'name': 'John', 'age': 25, 'country': 'USA'}\n"
          ]
        }
      ]
    },
    {
      "cell_type": "code",
      "source": [
        "#23.Write a code to access the value associated with the key \"name\" in the dictionary {'name': 'Alice', 'age': 30}.\n",
        "person = {'name': 'Alice', 'age': 30}\n",
        "print(person[\"name\"])"
      ],
      "metadata": {
        "colab": {
          "base_uri": "https://localhost:8080/"
        },
        "id": "zGFg2ZoTHiua",
        "outputId": "3ba32550-0d58-44ed-e96c-40514e111e3e"
      },
      "execution_count": 23,
      "outputs": [
        {
          "output_type": "stream",
          "name": "stdout",
          "text": [
            "Alice\n"
          ]
        }
      ]
    },
    {
      "cell_type": "code",
      "source": [
        "#24.Write a code to remove the key \"age\" from the dictionary {'name': 'Bob', 'age': 22, 'city': 'New York'}.\n",
        "person = {'name': 'Bob', 'age': 22, 'city': 'New York'}\n",
        "del person[\"age\"]\n",
        "print(person)"
      ],
      "metadata": {
        "colab": {
          "base_uri": "https://localhost:8080/"
        },
        "id": "zA6sHVHSHixZ",
        "outputId": "2aee805b-311a-42ec-9dc2-f08c1d78232c"
      },
      "execution_count": 24,
      "outputs": [
        {
          "output_type": "stream",
          "name": "stdout",
          "text": [
            "{'name': 'Bob', 'city': 'New York'}\n"
          ]
        }
      ]
    },
    {
      "cell_type": "code",
      "source": [
        "#25.Write a code to check if the key \"city\" exists in the dictionary {'name': 'Alice', 'city': 'Paris'}.\n",
        "person = {'name': 'Alice', 'city': 'Paris'}\n",
        "if \"city\" in person:\n",
        "    print(\"Key 'city' exists\")\n",
        "else:\n",
        "    print(\"Key 'city' does not exist\")"
      ],
      "metadata": {
        "colab": {
          "base_uri": "https://localhost:8080/"
        },
        "id": "PaiUvC8JHi0d",
        "outputId": "34908a54-e939-4732-f5c6-65c23117de2b"
      },
      "execution_count": 25,
      "outputs": [
        {
          "output_type": "stream",
          "name": "stdout",
          "text": [
            "Key 'city' exists\n"
          ]
        }
      ]
    },
    {
      "cell_type": "code",
      "source": [
        "#26.Write a code to create a list, a tuple, and a dictionary, and print them all.\n",
        "my_list = [1, 2, 3]\n",
        "my_tuple = (4, 5, 6)\n",
        "my_dict = {\"a\": 10, \"b\": 20}\n",
        "\n",
        "print(my_list)\n",
        "print(my_tuple)\n",
        "print(my_dict)"
      ],
      "metadata": {
        "colab": {
          "base_uri": "https://localhost:8080/"
        },
        "id": "VF4YUWlHHi3L",
        "outputId": "511590b2-588a-4cff-d634-a50b8f73b8f7"
      },
      "execution_count": 26,
      "outputs": [
        {
          "output_type": "stream",
          "name": "stdout",
          "text": [
            "[1, 2, 3]\n",
            "(4, 5, 6)\n",
            "{'a': 10, 'b': 20}\n"
          ]
        }
      ]
    },
    {
      "cell_type": "code",
      "source": [
        "#27.Write a code to create a list of 5 random numbers between 1 and 100, sort it in ascending order, and print the result.(replaced).\n",
        "import random\n",
        "\n",
        "numbers = [random.randint(1, 100) for _ in range(5)]\n",
        "numbers.sort()\n",
        "print(numbers)"
      ],
      "metadata": {
        "colab": {
          "base_uri": "https://localhost:8080/"
        },
        "id": "66GP9I5cHi6I",
        "outputId": "8b160f37-5384-40d3-e400-56546bafd7e1"
      },
      "execution_count": 27,
      "outputs": [
        {
          "output_type": "stream",
          "name": "stdout",
          "text": [
            "[8, 11, 24, 63, 86]\n"
          ]
        }
      ]
    },
    {
      "cell_type": "code",
      "source": [
        "#28.Write a code to create a list with strings and print the element at the third index.\n",
        "words = [\"apple\", \"banana\", \"cherry\", \"date\", \"elderberry\"]\n",
        "print(words[3])"
      ],
      "metadata": {
        "colab": {
          "base_uri": "https://localhost:8080/"
        },
        "id": "Y3Act6rTHi9B",
        "outputId": "33805303-ae56-4fb0-ec95-b27addea4541"
      },
      "execution_count": 28,
      "outputs": [
        {
          "output_type": "stream",
          "name": "stdout",
          "text": [
            "date\n"
          ]
        }
      ]
    },
    {
      "cell_type": "code",
      "source": [
        "#29.Write a code to combine two dictionaries into one and print the result.\n",
        "dict1 = {\"a\": 1, \"b\": 2}\n",
        "dict2 = {\"c\": 3, \"d\": 4}\n",
        "combined = {**dict1, **dict2}\n",
        "print(combined)"
      ],
      "metadata": {
        "colab": {
          "base_uri": "https://localhost:8080/"
        },
        "id": "aB58FNs2HjAc",
        "outputId": "023ee423-d5a8-4c3b-9e26-4ab4b1edbfad"
      },
      "execution_count": 29,
      "outputs": [
        {
          "output_type": "stream",
          "name": "stdout",
          "text": [
            "{'a': 1, 'b': 2, 'c': 3, 'd': 4}\n"
          ]
        }
      ]
    },
    {
      "cell_type": "code",
      "source": [
        "#30.Write a code to convert a list of strings into a set.\n",
        "string_list = [\"apple\", \"banana\", \"cherry\", \"apple\"]\n",
        "string_set = set(string_list)\n",
        "print(string_set)"
      ],
      "metadata": {
        "colab": {
          "base_uri": "https://localhost:8080/"
        },
        "id": "1ukmtulzHjXt",
        "outputId": "6205e9cb-b0d3-4e16-efc7-b74623f04e27"
      },
      "execution_count": 30,
      "outputs": [
        {
          "output_type": "stream",
          "name": "stdout",
          "text": [
            "{'cherry', 'apple', 'banana'}\n"
          ]
        }
      ]
    }
  ]
}